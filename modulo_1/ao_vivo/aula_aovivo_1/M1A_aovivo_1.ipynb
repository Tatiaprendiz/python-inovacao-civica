{
 "cells": [
  {
   "cell_type": "markdown",
   "id": "32600998",
   "metadata": {},
   "source": [
    "# Exercício\n",
    "\n",
    "Construa um programa que:\n",
    " - Pergunte a usuária 2 números inteiros;\n",
    " - Crie uma lista numérica do intervalo;\n",
    " - Se o número for divisível por 3, substitua-o por \"Tecnologia\";\n",
    " - Se o número for divisível por 5, substitua-o por \"Cívica\";\n",
    " - Se o número for divisível por 3 e 5, substitua-o por \"Tecnologia Cívica\"."
   ]
  },
  {
   "cell_type": "code",
   "execution_count": null,
   "id": "72c08d50",
   "metadata": {},
   "outputs": [],
   "source": [
    "numero_1 = int(input(\"Insira um número positivo:  \"))"
   ]
  },
  {
   "cell_type": "code",
   "execution_count": null,
   "id": "6da6e182",
   "metadata": {},
   "outputs": [],
   "source": [
    "numero_2 = int(input(\"Insira outro número positivo:  \"))"
   ]
  },
  {
   "cell_type": "code",
   "execution_count": null,
   "id": "9cc4d5f4",
   "metadata": {},
   "outputs": [],
   "source": [
    "print(numero_1)"
   ]
  },
  {
   "cell_type": "code",
   "execution_count": null,
   "id": "f4c5ccae",
   "metadata": {},
   "outputs": [],
   "source": []
  },
  {
   "cell_type": "code",
   "execution_count": null,
   "id": "b4cf3a32",
   "metadata": {},
   "outputs": [],
   "source": []
  }
 ],
 "metadata": {
  "kernelspec": {
   "display_name": "Python 3 (ipykernel)",
   "language": "python",
   "name": "python3"
  },
  "language_info": {
   "codemirror_mode": {
    "name": "ipython",
    "version": 3
   },
   "file_extension": ".py",
   "mimetype": "text/x-python",
   "name": "python",
   "nbconvert_exporter": "python",
   "pygments_lexer": "ipython3",
   "version": "3.9.6"
  }
 },
 "nbformat": 4,
 "nbformat_minor": 5
}
